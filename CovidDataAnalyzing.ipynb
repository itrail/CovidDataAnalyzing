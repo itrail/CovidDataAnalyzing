{
  "nbformat": 4,
  "nbformat_minor": 0,
  "metadata": {
    "colab": {
      "name": "CovidDataAnalyzing.ipynb",
      "provenance": [],
      "authorship_tag": "ABX9TyPV1Q1kV56cG2cAQeG1q7qo",
      "include_colab_link": true
    },
    "kernelspec": {
      "name": "python3",
      "display_name": "Python 3"
    },
    "language_info": {
      "name": "python"
    }
  },
  "cells": [
    {
      "cell_type": "markdown",
      "metadata": {
        "id": "view-in-github",
        "colab_type": "text"
      },
      "source": [
        "<a href=\"https://colab.research.google.com/github/itrail/CovidDataAnalyzing/blob/main/CovidDataAnalyzing.ipynb\" target=\"_parent\"><img src=\"https://colab.research.google.com/assets/colab-badge.svg\" alt=\"Open In Colab\"/></a>"
      ]
    },
    {
      "cell_type": "code",
      "metadata": {
        "id": "5edWpu_mXuR3"
      },
      "source": [
        "from collections import OrderedDict\n",
        "import json\n",
        "from itertools import islice\n",
        "from datetime import timedelta, date, datetime, timezone\n",
        "from openpyxl import load_workbook\n",
        "from bs4 import BeautifulSoup\n",
        "import plotly.graph_objects as go"
      ],
      "execution_count": null,
      "outputs": []
    },
    {
      "cell_type": "code",
      "metadata": {
        "id": "sHG73YdD3lu7"
      },
      "source": [
        "#creating json file with excel covid19 data \n",
        "\n",
        "def create_json():\n",
        "  covid_data = []\n",
        "  #open a spreadsheet and sheet\n",
        "  wb = load_workbook('covid19.xlsx')\n",
        "  sheet = wb['newCases2021']\n",
        "\n",
        "  #copy row by row with loop\n",
        "  for row in islice(sheet.values, 1, sheet.max_row):\n",
        "      data = OrderedDict()\n",
        "      day = row[0]\n",
        "      day  = day.strftime(\"%d.%m.%Y\")\n",
        "      data['date'] = day\n",
        "      data['cases'] = str(row[1])\n",
        "      covid_data.append(data)\n",
        "  newlist = sorted(covid_data, key=lambda x: datetime.strptime(x['date'], '%d.%m.%Y'))\n",
        "  j = json.dumps(newlist) \n",
        "\n",
        "  #save data in json file\n",
        "  with open('data.json', 'w') as f:\n",
        "      f.write(j)"
      ],
      "execution_count": null,
      "outputs": []
    },
    {
      "cell_type": "code",
      "metadata": {
        "colab": {
          "base_uri": "https://localhost:8080/"
        },
        "id": "QgwePQKFsvkw",
        "outputId": "70816faf-f7db-4301-84f3-e515bac5b4fd"
      },
      "source": [
        "#data actualization\n",
        "covid_data=[]\n",
        "#url of webpage with covid data\n",
        "url = 'https://www.worldometers.info/coronavirus/country/poland/'\n",
        "\n",
        "#get the page content\n",
        "page = requests.get(url)\n",
        "soup = BeautifulSoup(page.content, 'html.parser')\n",
        "#find lists, here's data about new cases and deaths\n",
        "data_iterator = iter(soup.find_all('li', {'class': 'news_li'}))\n",
        "\n",
        "#delta is variable to substracting date, if its before 12 data probably hasn't been updated\n",
        "now = datetime.now(timezone(timedelta(hours=2)))\n",
        "if now.hour >= 11:\n",
        "  delta = 0\n",
        "else:\n",
        "  delta = 1\n",
        "\n",
        "#getting todays date\n",
        "today = date.today()\n",
        "#loop for all obtained data\n",
        "with open('data.json', 'r') as f:\n",
        "  json_object = json.load(f)\n",
        "  f.close()\n",
        "iterator = 0;\n",
        "while True:\n",
        "    try:\n",
        "      #substracting dates\n",
        "      day  = today - timedelta(days=delta)\n",
        "      day  = day .strftime(\"%d.%m.%Y\")\n",
        "      #getting the next row and cleaning the info\n",
        "      newData = next(data_iterator).text\n",
        "      newData = newData.split(\" new cases and \", 1)\n",
        "      newCases = newData[0]\n",
        "      newDeaths= newData[1].replace(' new deaths in Poland\\xa0[source]', '')\n",
        "      newCases = newCases.replace(',', '')\n",
        "      data = {\"date\": day, \"cases\": newCases, }\n",
        "\n",
        "      #saving data if is not in json file\n",
        "      if data not in json_object:\n",
        "        print(data)\n",
        "        json_object.append(data)\n",
        "        \n",
        "      print(day  + \": \" + newCases)\n",
        "      delta += 1\n",
        "      iterator += 1\n",
        "    except StopIteration:\n",
        "      break\n",
        "\n",
        "#sorting by dates\n",
        "newlist = sorted(json_object, key=lambda x: datetime.strptime(x['date'], '%d.%m.%Y'))\n",
        "j = json.dumps(newlist) \n",
        "with open('data.json', 'w') as f:\n",
        "    f.write(j)"
      ],
      "execution_count": null,
      "outputs": [
        {
          "output_type": "stream",
          "text": [
            "{'date': '18.05.2021', 'cases': '1734'}\n",
            "18.05.2021: 1734\n",
            "{'date': '17.05.2021', 'cases': '1109'}\n",
            "17.05.2021: 1109\n",
            "16.05.2021: 2169\n",
            "15.05.2021: 2897\n",
            "14.05.2021: 3289\n",
            "13.05.2021: 3694\n",
            "12.05.2021: 3948\n"
          ],
          "name": "stdout"
        }
      ]
    },
    {
      "cell_type": "code",
      "metadata": {
        "id": "MLhM0pGa9TZJ"
      },
      "source": [
        "create_json()"
      ],
      "execution_count": null,
      "outputs": []
    },
    {
      "cell_type": "code",
      "metadata": {
        "id": "LlQZjLbxD6v5"
      },
      "source": [
        "#plot the data\n",
        "with open('data.json', 'r') as f:\n",
        "  json_object = json.load(f)\n",
        "  f.close()\n",
        "\n",
        "for item in json_object:\n",
        "  print(item)"
      ],
      "execution_count": null,
      "outputs": []
    }
  ]
}